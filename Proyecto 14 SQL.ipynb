{
 "cells": [
  {
   "cell_type": "markdown",
   "metadata": {},
   "source": [
    "¡Hola!<br />\n",
    "Soy **Francisco Cortés**, estoy contento de revisar tu proyecto y ser parte de tu proceso de aprendizaje.\n",
    "A lo largo del texto, haré algunas observaciones sobre mejoras en el código y también haré comentarios sobre tus percepciones sobre el tema. Si existe algún error en el código, no te preocupes, estoy aquí para ayudarte a mejorarlo, en la primera iteración te lo señalaré para que tengas la oportunidad de corregirlo, pero si aún no encuentras una solución para esta tarea, te daré una pista más precisa en la próxima iteración y también algunos ejemplos prácticos. Estaré abierto a retroalimentación y discusiones sobre el tema.<br />\n",
    "Encontrarás mis comentarios a continuación - **por favor no los muevas, modifiques o borres**.\n",
    "Revisaré cuidadosamente tu código para comprobar que se han cumplido con los requisitos y te proporcionaré mis comentarios en cajas verdes, amarillas o rojas como esta:\n",
    "\n",
    "<div class=\"alert alert-block alert-success\">\n",
    "<b>Comentario del revisor</b> <a class=\"tocSkip\"></a>\n",
    "\n",
    "Si la ejecución fue perfecta succesfully.\n",
    "</div>\n",
    "\n",
    "<div class=\"alert alert-block alert-warning\">\n",
    "<b>Comentario del revisor</b> <a class=\"tocSkip\"></a>\n",
    "\n",
    "Si existe alguna recomendación para que tu código mejore.\n",
    "</div>\n",
    "\n",
    "<div class=\"alert alert-block alert-danger\">\n",
    "\n",
    "<b>Comentario del revisor</b> <a class=\"tocSkip\"></a>\n",
    "\n",
    "Si existen correcciones necesarias para cumplir con los requisitos. El trabajo no puede ser aceptado si hay alguna caja roja.\n",
    "</div>\n",
    "\n",
    "Puedes responderme de la siguiente manera:\n",
    "\n",
    "<div class=\"alert alert-block alert-info\">\n",
    "<b>Respuesta del estudiante.</b> <a class=\"tocSkip\"></a>\n",
    "</div>"
   ]
  },
  {
   "cell_type": "code",
   "execution_count": 2,
   "metadata": {},
   "outputs": [],
   "source": [
    "# importar librerías\n",
    "import pandas as pd\n",
    "from sqlalchemy import create_engine\n",
    "\n",
    "# configuración de la base de datos\n",
    "db_config = {'user': 'practicum_student',         # nombre de usuario\n",
    "             'pwd': 's65BlTKV3faNIGhmvJVzOqhs', # contraseña\n",
    "             'host': 'rc1b-wcoijxj3yxfsf3fs.mdb.yandexcloud.net',\n",
    "             'port': 6432,              # puerto de conexión\n",
    "             'db': 'data-analyst-final-project-db'}          # nombre de la base de datos\n",
    "\n",
    "# cadena de conexión\n",
    "connection_string = 'postgresql://{}:{}@{}:{}/{}'.format(db_config['user'],\n",
    "                                                         db_config['pwd'],\n",
    "                                                         db_config['host'],\n",
    "                                                         db_config['port'],\n",
    "                                                         db_config['db'])\n",
    "\n",
    "# crear el motor de conexión\n",
    "engine = create_engine(connection_string, connect_args={'sslmode': 'require', 'sslrootcert': 'CA.pem'})"
   ]
  },
  {
   "cell_type": "markdown",
   "metadata": {},
   "source": [
    "<div class=\"alert alert-block alert-success\">\n",
    "<b>Comentario del revisor</b> <a class=\"tocSkip\"></a><br />\n",
    "Correcto modo de crear la configuración inicial\n",
    "</div>\n"
   ]
  },
  {
   "cell_type": "markdown",
   "metadata": {},
   "source": [
    "# Objetivos del estudio."
   ]
  },
  {
   "cell_type": "markdown",
   "metadata": {},
   "source": [
    "- Determinar el número de libros publicados después del 1 de enero de 2000.\n",
    "\n",
    "- Calcular el número de reseñas de usuarios y la calificación promedio para cada libro.\n",
    "\n",
    "- Identificar la editorial que ha publicado el mayor número de libros con más de 50 páginas.\n",
    "\n",
    "- Encontrar al autor con la calificación promedio más alta para libros con al menos 50 calificaciones.\n",
    "\n",
    "- Calcular el número promedio de reseñas de texto entre los usuarios que calificaron más de 50 libros."
   ]
  },
  {
   "cell_type": "markdown",
   "metadata": {},
   "source": [
    "##  Número de libros publicados después del 1 de enero de 2000"
   ]
  },
  {
   "cell_type": "code",
   "execution_count": 3,
   "metadata": {},
   "outputs": [],
   "source": [
    "num_libros_df = pd.read_sql_query(\"\"\"\n",
    "    SELECT COUNT(*) as num_libros\n",
    "    FROM books\n",
    "    WHERE publication_date > '2000-01-01';\n",
    "\"\"\", engine)"
   ]
  },
  {
   "cell_type": "markdown",
   "metadata": {},
   "source": [
    "<div class=\"alert alert-block alert-success\">\n",
    "<b>Comentario del revisor</b> <a class=\"tocSkip\"></a><br />\n",
    "Correcto, buen uso del COUNT y WHERE\n",
    "</div>\n"
   ]
  },
  {
   "cell_type": "markdown",
   "metadata": {},
   "source": [
    "## Número de reseñas de usuarios y calificación promedio para cada libro."
   ]
  },
  {
   "cell_type": "code",
   "execution_count": 4,
   "metadata": {},
   "outputs": [],
   "source": [
    "resenas_calificacion_df = pd.read_sql_query(\"\"\"\n",
    "    SELECT b.title, COUNT(r.review_id) as num_resenas, AVG(rt.rating) as calificacion_promedio\n",
    "    FROM books b\n",
    "    LEFT JOIN reviews r ON b.book_id = r.book_id\n",
    "    LEFT JOIN ratings rt ON b.book_id = rt.book_id\n",
    "    GROUP BY b.title;\n",
    "\"\"\", engine)"
   ]
  },
  {
   "cell_type": "markdown",
   "metadata": {},
   "source": [
    "<div class=\"alert alert-block alert-success\">\n",
    "<b>Comentario del revisor</b> <a class=\"tocSkip\"></a><br />\n",
    "Correcto, buena manera de unir las tablas y hacer el COUNT y el AVG\n",
    "</div>\n"
   ]
  },
  {
   "cell_type": "markdown",
   "metadata": {},
   "source": [
    "##  Editorial que ha publicado el mayor número de libros con más de 50 páginas."
   ]
  },
  {
   "cell_type": "code",
   "execution_count": 5,
   "metadata": {},
   "outputs": [],
   "source": [
    "editorial_mas_libros_df = pd.read_sql_query(\"\"\"\n",
    "    SELECT p.publisher, COUNT(b.book_id) as num_libros\n",
    "    FROM publishers p\n",
    "    JOIN books b ON p.publisher_id = b.publisher_id\n",
    "    WHERE b.num_pages > 50\n",
    "    GROUP BY p.publisher\n",
    "    ORDER BY num_libros DESC\n",
    "    LIMIT 1;\n",
    "\"\"\", engine)"
   ]
  },
  {
   "cell_type": "markdown",
   "metadata": {},
   "source": [
    "\n",
    "<div class=\"alert alert-block alert-success\">\n",
    "<b>Comentario del revisor</b> <a class=\"tocSkip\"></a><br />\n",
    "Correcto, Penguin Books es la editorial con más libros publicados, buena manera de encontrar y mostrar el resultado acertado\n",
    "</div>\n"
   ]
  },
  {
   "cell_type": "markdown",
   "metadata": {},
   "source": [
    "## Autor con la calificación promedio más alta para libros con al menos 50 calificaciones."
   ]
  },
  {
   "cell_type": "code",
   "execution_count": 6,
   "metadata": {},
   "outputs": [],
   "source": [
    "autor_mejor_calificado_df = pd.read_sql_query(\"\"\"\n",
    "    SELECT a.author, AVG(rt.rating) as calificacion_promedio\n",
    "    FROM authors a\n",
    "    JOIN books b ON a.author_id = b.author_id\n",
    "    JOIN ratings rt ON b.book_id = rt.book_id\n",
    "    GROUP BY a.author\n",
    "    HAVING COUNT(rt.rating_id) >= 50\n",
    "    ORDER BY calificacion_promedio DESC\n",
    "    LIMIT 1;\n",
    "\"\"\", engine)"
   ]
  },
  {
   "cell_type": "markdown",
   "metadata": {},
   "source": [
    "<div class=\"alert alert-block alert-success\">\n",
    "<b>Comentario del revisor</b> <a class=\"tocSkip\"></a><br />\n",
    "Bien hecho, buen uso de HAVING, los resultados son correctos\n",
    "</div>\n"
   ]
  },
  {
   "cell_type": "markdown",
   "metadata": {},
   "source": [
    "## Número promedio de reseñas de texto entre los usuarios que calificaron más de 50 libros."
   ]
  },
  {
   "cell_type": "code",
   "execution_count": 7,
   "metadata": {},
   "outputs": [],
   "source": [
    "promedio_resenas_df = pd.read_sql_query(\"\"\"\n",
    "    WITH usuarios_con_mas_de_50_calificaciones AS (\n",
    "        SELECT username\n",
    "        FROM ratings\n",
    "        GROUP BY username\n",
    "        HAVING COUNT(rating_id) > 50\n",
    "    )\n",
    "    SELECT AVG(num_resenas) as promedio_resenas\n",
    "    FROM (\n",
    "        SELECT COUNT(r.review_id) as num_resenas\n",
    "        FROM reviews r\n",
    "        JOIN usuarios_con_mas_de_50_calificaciones u ON r.username = u.username\n",
    "        GROUP BY r.username\n",
    "    ) as subquery;\n",
    "\"\"\", engine)"
   ]
  },
  {
   "cell_type": "markdown",
   "metadata": {},
   "source": [
    "<div class=\"alert alert-block alert-success\">\n",
    "<b>Comentario del revisor</b> <a class=\"tocSkip\"></a><br />\n",
    "Bien hecho, buen uso del uso de subqueries, el resultado es acertado\n",
    "</div>\n"
   ]
  },
  {
   "cell_type": "code",
   "execution_count": 8,
   "metadata": {},
   "outputs": [
    {
     "name": "stdout",
     "output_type": "stream",
     "text": [
      "Número de libros publicados después del 1 de enero de 2000:\n",
      "   num_libros\n",
      "0         819\n",
      "\n",
      "Número de reseñas de usuarios y calificación promedio para cada libro:\n",
      "                                                 title  num_resenas  \\\n",
      "0                            The Count of Monte Cristo          115   \n",
      "1                              Count Zero (Sprawl  #2)            4   \n",
      "2    The Botany of Desire: A Plant's-Eye View of th...            4   \n",
      "3                                 The Poisonwood Bible          110   \n",
      "4                                 The Canterbury Tales           18   \n",
      "..                                                 ...          ...   \n",
      "994                           Of Love and Other Demons            4   \n",
      "995  In the Heart of the Sea: The Tragedy of the Wh...            9   \n",
      "996               Welcome to Temptation (Dempseys  #1)            4   \n",
      "997                      World's End (The Sandman  #8)            4   \n",
      "998                                  Holes (Holes  #1)          155   \n",
      "\n",
      "     calificacion_promedio  \n",
      "0                 4.217391  \n",
      "1                 2.500000  \n",
      "2                 3.500000  \n",
      "3                 4.363636  \n",
      "4                 3.333333  \n",
      "..                     ...  \n",
      "994               4.500000  \n",
      "995               3.333333  \n",
      "996               5.000000  \n",
      "997               4.500000  \n",
      "998               3.967742  \n",
      "\n",
      "[999 rows x 3 columns]\n",
      "\n",
      "Editorial que ha publicado el mayor número de libros con más de 50 páginas:\n",
      "       publisher  num_libros\n",
      "0  Penguin Books          42\n",
      "\n",
      "Autor con la calificación promedio más alta para libros con al menos 50 calificaciones:\n",
      "           author  calificacion_promedio\n",
      "0  Diana Gabaldon                    4.3\n",
      "\n",
      "Número promedio de reseñas de texto entre los usuarios que calificaron más de 50 libros:\n",
      "   promedio_resenas\n",
      "0         24.333333\n"
     ]
    }
   ],
   "source": [
    "# Imprimir los resultados\n",
    "print(\"Número de libros publicados después del 1 de enero de 2000:\")\n",
    "print(num_libros_df)\n",
    "\n",
    "print(\"\\nNúmero de reseñas de usuarios y calificación promedio para cada libro:\")\n",
    "print(resenas_calificacion_df)\n",
    "\n",
    "print(\"\\nEditorial que ha publicado el mayor número de libros con más de 50 páginas:\")\n",
    "print(editorial_mas_libros_df)\n",
    "\n",
    "print(\"\\nAutor con la calificación promedio más alta para libros con al menos 50 calificaciones:\")\n",
    "print(autor_mejor_calificado_df)\n",
    "\n",
    "print(\"\\nNúmero promedio de reseñas de texto entre los usuarios que calificaron más de 50 libros:\")\n",
    "print(promedio_resenas_df)"
   ]
  },
  {
   "cell_type": "markdown",
   "metadata": {},
   "source": [
    "## Conclusiones"
   ]
  },
  {
   "cell_type": "markdown",
   "metadata": {},
   "source": [
    "- Número de libros publicados después del 1 de enero de 2000:\n",
    "\n",
    "Se han publicado un total de 819 libros después del 1 de enero de 2000. Esto sugiere una producción literaria considerable en los últimos años, indicando un mercado activo para libros modernos.\n",
    "\n",
    "- Número de reseñas de usuarios y calificación promedio para cada libro:\n",
    "\n",
    "La tabla muestra una amplia gama de libros con diversas cantidades de reseñas y calificaciones promedio. Por ejemplo, \"The Count of Monte Cristo\" tiene 115 reseñas con una calificación promedio de 4.22, mientras que \"Holes (Holes #1)\" tiene 155 reseñas con una calificación promedio de 3.97.\n",
    "\n",
    "Estos datos indican que hay libros muy populares con un alto número de reseñas, así como libros con menos reseñas pero con calificaciones altas, lo que puede indicar una alta calidad percibida por un grupo más pequeño de lectores.\n",
    "\n",
    "- Editorial que ha publicado el mayor número de libros con más de 50 páginas:\n",
    "\n",
    "Penguin Books ha publicado la mayor cantidad de libros con más de 50 páginas, con un total de 42 libros. Esto sugiere que Penguin Books es una editorial prominente y activa, conocida por su amplia gama de publicaciones de calidad.\n",
    "\n",
    "- Autor con la calificación promedio más alta para libros con al menos 50 calificaciones:\n",
    "\n",
    "Diana Gabaldon es la autora con la calificación promedio más alta (4.3) entre aquellos libros que han recibido al menos 50 calificaciones. Esto indica una alta satisfacción entre los lectores de sus libros, lo que sugiere que ella tiene una base de lectores leales y una reputación de alta calidad en su obra.\n",
    "\n",
    "- Número promedio de reseñas de texto entre los usuarios que calificaron más de 50 libros:\n",
    "\n",
    "Los usuarios que han calificado más de 50 libros tienen un promedio de 24.33 reseñas de texto. Este dato es interesante porque muestra que los usuarios más activos en términos de calificaciones también contribuyen significativamente con reseñas detalladas, lo que podría ser valioso para otros lectores que buscan opiniones detalladas antes de decidir qué libro leer."
   ]
  },
  {
   "cell_type": "markdown",
   "metadata": {},
   "source": [
    "<div class=\"alert alert-block alert-success\">\n",
    "<b>Comentario del revisor</b> <a class=\"tocSkip\"></a><br />\n",
    "Has realizado un buen trabajo, me doy cuenta de que has aplicado los conocimientos que has adquirido durante el curso y los procedimientos realizados son correctos, SQL es una gran herramienta que nos ayuda en muchos casos y es bastante útil en proyectos reales.<br/>\n",
    "    \n",
    "Me parece interesante el modo en el que has resuelto el ejercicio, al separar primero los queries y después mostrarlos todos en una sola celda, al estar todos juntos recomendaria limitar la salida de los datos (LIMIT 5) para que puedan ser leidos más facilmente, de cualquier manera me parece muy ordenada la forma en la que lo has realizado.<br/>\n",
    "\n",
    "Continúa con el buen trabajo y mucho éxito en el siguiente Sprint!\n",
    "</div>\n"
   ]
  }
 ],
 "metadata": {
  "ExecuteTimeLog": [
   {
    "duration": 565,
    "start_time": "2024-06-10T20:04:39.537Z"
   },
   {
    "duration": 3,
    "start_time": "2024-06-10T20:06:46.402Z"
   },
   {
    "duration": 2413,
    "start_time": "2024-06-10T20:07:01.806Z"
   },
   {
    "duration": 683,
    "start_time": "2024-06-10T20:07:50.971Z"
   },
   {
    "duration": 3,
    "start_time": "2024-06-10T20:08:04.380Z"
   },
   {
    "duration": 681,
    "start_time": "2024-06-10T20:08:18.814Z"
   },
   {
    "duration": 409,
    "start_time": "2024-06-10T20:08:29.780Z"
   },
   {
    "duration": 4,
    "start_time": "2024-06-10T20:08:49.036Z"
   },
   {
    "duration": 408,
    "start_time": "2024-06-10T20:09:06.624Z"
   },
   {
    "duration": 406,
    "start_time": "2024-06-10T20:09:35.839Z"
   },
   {
    "duration": 17,
    "start_time": "2024-06-10T20:09:54.432Z"
   },
   {
    "duration": 602,
    "start_time": "2024-06-10T20:11:28.140Z"
   },
   {
    "duration": 2410,
    "start_time": "2024-06-10T20:11:28.749Z"
   },
   {
    "duration": 720,
    "start_time": "2024-06-10T20:11:31.162Z"
   },
   {
    "duration": 427,
    "start_time": "2024-06-10T20:11:31.885Z"
   },
   {
    "duration": 431,
    "start_time": "2024-06-10T20:11:32.317Z"
   },
   {
    "duration": 430,
    "start_time": "2024-06-10T20:11:32.751Z"
   },
   {
    "duration": 21,
    "start_time": "2024-06-10T20:11:33.184Z"
   },
   {
    "duration": 18,
    "start_time": "2024-06-11T03:57:35.739Z"
   },
   {
    "duration": 600,
    "start_time": "2024-06-11T03:57:45.345Z"
   },
   {
    "duration": 2255,
    "start_time": "2024-06-11T03:58:00.557Z"
   },
   {
    "duration": 628,
    "start_time": "2024-06-11T03:58:02.816Z"
   },
   {
    "duration": 372,
    "start_time": "2024-06-11T03:58:10.027Z"
   },
   {
    "duration": 376,
    "start_time": "2024-06-11T03:58:11.088Z"
   },
   {
    "duration": 373,
    "start_time": "2024-06-11T03:58:11.545Z"
   },
   {
    "duration": 17,
    "start_time": "2024-06-11T03:58:11.921Z"
   }
  ],
  "kernelspec": {
   "display_name": "Python 3 (ipykernel)",
   "language": "python",
   "name": "python3"
  },
  "language_info": {
   "codemirror_mode": {
    "name": "ipython",
    "version": 3
   },
   "file_extension": ".py",
   "mimetype": "text/x-python",
   "name": "python",
   "nbconvert_exporter": "python",
   "pygments_lexer": "ipython3",
   "version": "3.9.19"
  },
  "toc": {
   "base_numbering": 1,
   "nav_menu": {},
   "number_sections": true,
   "sideBar": true,
   "skip_h1_title": true,
   "title_cell": "Table of Contents",
   "title_sidebar": "Contents",
   "toc_cell": false,
   "toc_position": {},
   "toc_section_display": true,
   "toc_window_display": false
  }
 },
 "nbformat": 4,
 "nbformat_minor": 2
}
